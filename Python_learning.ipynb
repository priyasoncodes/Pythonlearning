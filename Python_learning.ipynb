{
  "nbformat": 4,
  "nbformat_minor": 0,
  "metadata": {
    "colab": {
      "provenance": [],
      "authorship_tag": "ABX9TyPiYZFCvKAzkua3/IHe2lZh",
      "include_colab_link": true
    },
    "kernelspec": {
      "name": "python3",
      "display_name": "Python 3"
    },
    "language_info": {
      "name": "python"
    }
  },
  "cells": [
    {
      "cell_type": "markdown",
      "metadata": {
        "id": "view-in-github",
        "colab_type": "text"
      },
      "source": [
        "<a href=\"https://colab.research.google.com/github/priyasoncodes/Pythonlearning/blob/main/Python_learning.ipynb\" target=\"_parent\"><img src=\"https://colab.research.google.com/assets/colab-badge.svg\" alt=\"Open In Colab\"/></a>"
      ]
    },
    {
      "cell_type": "code",
      "execution_count": 5,
      "metadata": {
        "id": "-V6-DhEI4JSR"
      },
      "outputs": [],
      "source": [
        "game_list=[0,1,2]"
      ]
    },
    {
      "cell_type": "code",
      "source": [
        "def display_game(game_list):\n",
        "  print(\"Here is the current list:\")\n",
        "  print(game_list)"
      ],
      "metadata": {
        "id": "Aji5ifam4S3V"
      },
      "execution_count": 6,
      "outputs": []
    },
    {
      "cell_type": "code",
      "source": [
        "def position_choice():\n",
        "  choice='Wrong'\n",
        "  withinrange=False\n",
        "  while choice.isdigit()==False and withinrange==False:\n",
        "    if choice.isdigit()==False:\n",
        "      print(\"you entered a value that is not a number, please enter 0/1/2\")\n",
        "      choice=input(\"Enter your position choice, 0/1/2: \")\n",
        "    if choice.isdigit()==True:\n",
        "      if int(choice) not in [0,1,2]:\n",
        "        print(\"you entered a value that is larger than 2: \")\n",
        "        choice=input(\"Enter your position choice, 0/1/2: \")\n",
        "      else:\n",
        "        withinrange==True\n",
        "  return int(choice)\n",
        "\n",
        "\n"
      ],
      "metadata": {
        "id": "XJxQnp9a4dsb"
      },
      "execution_count": 18,
      "outputs": []
    },
    {
      "cell_type": "code",
      "source": [
        "position_choice()"
      ],
      "metadata": {
        "colab": {
          "base_uri": "https://localhost:8080/"
        },
        "id": "vTv08XzX4evL",
        "outputId": "860d850a-3536-4f6f-9a20-ab8f8fd875cd"
      },
      "execution_count": 16,
      "outputs": [
        {
          "name": "stdout",
          "output_type": "stream",
          "text": [
            "you entered a value that is not a number, please enter 0/1/2\n",
            "Enter your position choice, 0/1/2: 2\n"
          ]
        },
        {
          "output_type": "execute_result",
          "data": {
            "text/plain": [
              "2"
            ]
          },
          "metadata": {},
          "execution_count": 16
        }
      ]
    },
    {
      "cell_type": "code",
      "source": [
        "def replacement_choice(game_list,position):\n",
        "  user_input=input(\"Enter a string that you want to replace\")\n",
        "\n",
        "  game_list[position]=user_input\n",
        "\n",
        "  return game_list"
      ],
      "metadata": {
        "id": "vqe7VNSS5qn9"
      },
      "execution_count": 26,
      "outputs": []
    },
    {
      "cell_type": "code",
      "source": [
        "replacement_choice(game_list,1)"
      ],
      "metadata": {
        "colab": {
          "base_uri": "https://localhost:8080/"
        },
        "id": "q4_zKiM66iyA",
        "outputId": "d8dea72c-7e1d-4104-e10d-a62fd824fb04"
      },
      "execution_count": 27,
      "outputs": [
        {
          "name": "stdout",
          "output_type": "stream",
          "text": [
            "Enter a string that you want to replacename\n"
          ]
        },
        {
          "output_type": "execute_result",
          "data": {
            "text/plain": [
              "[0, 'name', 'name']"
            ]
          },
          "metadata": {},
          "execution_count": 27
        }
      ]
    },
    {
      "cell_type": "code",
      "source": [
        "def gameon_choice():\n",
        "\n",
        "  choice='Wrong'\n",
        "\n",
        "  while choice not in ['Y','N']:\n",
        "    choice=input('Do you want to continue?: Y/N: ')\n",
        "\n",
        "    if choice not in ['Y','N']:\n",
        "      print(\"Please enter Y/N\")\n",
        "      choice=input('Do you want to continue?: Y/N: ')\n",
        "\n",
        "    if choice=='Y':\n",
        "      return True\n",
        "    else:\n",
        "      print('Good game')\n",
        "      return False\n",
        ""
      ],
      "metadata": {
        "id": "3Q3GKllY6pPr"
      },
      "execution_count": 33,
      "outputs": []
    },
    {
      "cell_type": "code",
      "source": [
        "gameon_choice()"
      ],
      "metadata": {
        "colab": {
          "base_uri": "https://localhost:8080/"
        },
        "id": "2Tgz9Qif8SnR",
        "outputId": "7f5f7894-ad14-4ec8-8944-eb1e906a6e90"
      },
      "execution_count": 34,
      "outputs": [
        {
          "output_type": "stream",
          "name": "stdout",
          "text": [
            "Do you want to continue?: Y/N: N\n",
            "Good game\n"
          ]
        },
        {
          "output_type": "execute_result",
          "data": {
            "text/plain": [
              "False"
            ]
          },
          "metadata": {},
          "execution_count": 34
        }
      ]
    },
    {
      "cell_type": "code",
      "source": [
        "game_list=[0,1,2]\n",
        "game_on=True\n",
        "\n",
        "while game_on==True:\n",
        "  display_game(game_list)\n",
        "\n",
        "  position=position_choice()\n",
        "\n",
        "  game_list=replacement_choice(game_list,position)\n",
        "\n",
        "  display_game(game_list)\n",
        "\n",
        "  game_on=gameon_choice()"
      ],
      "metadata": {
        "colab": {
          "base_uri": "https://localhost:8080/"
        },
        "id": "ZLU7EhX08a8i",
        "outputId": "38ee8c2b-b29a-4718-bc00-a86cd95dde3e"
      },
      "execution_count": 36,
      "outputs": [
        {
          "output_type": "stream",
          "name": "stdout",
          "text": [
            "Here is the current list:\n",
            "[0, 1, 2]\n",
            "you entered a value that is not a number, please enter 0/1/2\n",
            "Enter your position choice, 0/1/2: 0\n",
            "Enter a string that you want to replacex\n",
            "Here is the current list:\n",
            "['x', 1, 2]\n",
            "Do you want to continue?: Y/N: N\n",
            "Good game\n"
          ]
        }
      ]
    },
    {
      "cell_type": "code",
      "source": [],
      "metadata": {
        "id": "xK68tU8I9Drx"
      },
      "execution_count": 35,
      "outputs": []
    }
  ]
}