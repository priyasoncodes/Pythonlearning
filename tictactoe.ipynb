{
  "cells": [
    {
      "cell_type": "markdown",
      "metadata": {
        "id": "view-in-github",
        "colab_type": "text"
      },
      "source": [
        "<a href=\"https://colab.research.google.com/github/priyasoncodes/Pythonlearning/blob/main/tictactoe.ipynb\" target=\"_parent\"><img src=\"https://colab.research.google.com/assets/colab-badge.svg\" alt=\"Open In Colab\"/></a>"
      ]
    },
    {
      "cell_type": "markdown",
      "metadata": {
        "id": "Aut0RAWTZWoH"
      },
      "source": [
        "___\n",
        "\n",
        "<a href='https://www.udemy.com/user/joseportilla/'><img src='../Pierian_Data_Logo.png'/></a>\n",
        "___\n",
        "<center><em>Content Copyright by Pierian Data</em></center>"
      ]
    },
    {
      "cell_type": "markdown",
      "metadata": {
        "id": "IUOEZ6EgZWoJ"
      },
      "source": [
        "# Milestone Project 1: Walkthrough Steps Workbook\n",
        "\n",
        "Below is a set of steps for you to follow to try to create the Tic Tac Toe Milestone Project game!"
      ]
    },
    {
      "cell_type": "markdown",
      "metadata": {
        "id": "ZKlFXcdaZWoJ"
      },
      "source": [
        "#### Some suggested tools before you get started:\n",
        "To take input from a user:\n",
        "\n",
        "    player1 = input(\"Please pick a marker 'X' or 'O'\")\n",
        "    \n",
        "Note that input() takes in a string. If you need an integer value, use\n",
        "\n",
        "    position = int(input('Please enter a number'))\n",
        "    \n",
        "<br>To clear the screen between moves:\n",
        "\n",
        "    from IPython.display import clear_output\n",
        "    clear_output()\n",
        "    \n",
        "Note that clear_output() will only work in jupyter. To clear the screen in other IDEs, consider:\n",
        "\n",
        "    print('\\n'*100)\n",
        "    \n",
        "This scrolls the previous board up out of view. Now on to the program!"
      ]
    },
    {
      "cell_type": "markdown",
      "metadata": {
        "id": "2AKVJ4KRZWoK"
      },
      "source": [
        "**Step 1: Write a function that can print out a board. Set up your board as a list, where each index 1-9 corresponds with a number on a number pad, so you get a 3 by 3 board representation.**"
      ]
    },
    {
      "cell_type": "code",
      "execution_count": null,
      "metadata": {
        "collapsed": true,
        "id": "jeaDPN6IZWoK"
      },
      "outputs": [],
      "source": [
        "#Create a view for the board\n",
        "from IPython.display import clear_output\n",
        "def display_board(board):\n",
        "  clear_output\n",
        "  print(' | | ')\n",
        "  print(board[7]+'|'+board[8]+'|'+board[9])\n",
        "  print(' | | ')\n",
        "  print('-----')\n",
        "  print(' | | ')\n",
        "  print(board[4]+'|'+board[5]+'|'+board[6])\n",
        "  print(' | | ')\n",
        "  print('-----')\n",
        "  print(' | | ')\n",
        "  print(board[1]+'|'+board[2]+'|'+board[3])\n",
        "  print(' | | ')"
      ]
    },
    {
      "cell_type": "markdown",
      "metadata": {
        "id": "8DI7-n0rZWoL"
      },
      "source": [
        "**TEST Step 1:** run your function on a test version of the board list, and make adjustments as necessary"
      ]
    },
    {
      "cell_type": "code",
      "execution_count": null,
      "metadata": {
        "collapsed": true,
        "colab": {
          "base_uri": "https://localhost:8080/"
        },
        "id": "QVFiT1a1ZWoL",
        "outputId": "bc86bc65-1dcc-4948-ab41-ad95936d20a7"
      },
      "outputs": [
        {
          "output_type": "stream",
          "name": "stdout",
          "text": [
            " | | \n",
            "X|O|X\n",
            " | | \n",
            "-----\n",
            " | | \n",
            "O|X|O\n",
            " | | \n",
            "-----\n",
            " | | \n",
            "X|O|X\n",
            " | | \n"
          ]
        }
      ],
      "source": [
        "test_board = ['#','X','O','X','O','X','O','X','O','X']\n",
        "display_board(test_board)"
      ]
    },
    {
      "cell_type": "markdown",
      "metadata": {
        "id": "KBTtb-mSZWoL"
      },
      "source": [
        "**Step 2: Write a function that can take in a player input and assign their marker as 'X' or 'O'. Think about using *while* loops to continually ask until you get a correct answer.**"
      ]
    },
    {
      "cell_type": "code",
      "execution_count": null,
      "metadata": {
        "collapsed": true,
        "id": "1CH_aED_ZWoL"
      },
      "outputs": [],
      "source": [
        "def player_input():\n",
        "  input_val=''\n",
        "  while input_val!='X' or input_val!='O':\n",
        "    input_val=input('Enter a value X or O').upper()\n",
        "\n",
        "    if input_val=='X':\n",
        "      print('Player 1 you are X, Player 2 you are y')\n",
        "      return ('X','0')\n",
        "    if input_val=='O':\n",
        "      print('Player 1 you are O, Player 2 you are X')\n",
        "      return ('O','X')\n",
        "    else:\n",
        "      print('You entered a value that is not x or o')\n",
        "      input_val=input('Enter a value X or O').upper()"
      ]
    },
    {
      "cell_type": "markdown",
      "source": [],
      "metadata": {
        "id": "Pc9_vIMsh1_n"
      }
    },
    {
      "cell_type": "markdown",
      "metadata": {
        "id": "aCHYnRluZWoL"
      },
      "source": [
        "**TEST Step 2:** run the function to make sure it returns the desired output"
      ]
    },
    {
      "cell_type": "code",
      "execution_count": null,
      "metadata": {
        "collapsed": true,
        "colab": {
          "base_uri": "https://localhost:8080/"
        },
        "id": "O0N8hZoFZWoL",
        "outputId": "eaec2b47-9c7e-4a36-970b-22b24883958b"
      },
      "outputs": [
        {
          "output_type": "stream",
          "name": "stdout",
          "text": [
            "Enter a value X or Ox\n",
            "Player 1 you are X, Player 2 you are y\n"
          ]
        },
        {
          "output_type": "execute_result",
          "data": {
            "text/plain": [
              "('X', '0')"
            ]
          },
          "metadata": {},
          "execution_count": 57
        }
      ],
      "source": [
        "player_input()"
      ]
    },
    {
      "cell_type": "markdown",
      "metadata": {
        "id": "vJ4TfOWWZWoM"
      },
      "source": [
        "**Step 3: Write a function that takes in the board list object, a marker ('X' or 'O'), and a desired position (number 1-9) and assigns it to the board.**"
      ]
    },
    {
      "cell_type": "code",
      "execution_count": null,
      "metadata": {
        "collapsed": true,
        "id": "APpDNyPzZWoM"
      },
      "outputs": [],
      "source": [
        "def place_marker(board, marker, position):\n",
        "\n",
        "    board[position]=marker\n"
      ]
    },
    {
      "cell_type": "markdown",
      "metadata": {
        "id": "DcwdWcVyZWoM"
      },
      "source": [
        "**TEST Step 3:** run the place marker function using test parameters and display the modified board"
      ]
    },
    {
      "cell_type": "code",
      "execution_count": null,
      "metadata": {
        "collapsed": true,
        "colab": {
          "base_uri": "https://localhost:8080/"
        },
        "id": "uI77xyT1ZWoM",
        "outputId": "afb8a041-dad7-4d32-dc89-ad9e01005293"
      },
      "outputs": [
        {
          "output_type": "stream",
          "name": "stdout",
          "text": [
            " | | \n",
            "X|$|X\n",
            " | | \n",
            "-----\n",
            " | | \n",
            "O|X|O\n",
            " | | \n",
            "-----\n",
            " | | \n",
            "X|O|X\n",
            " | | \n"
          ]
        }
      ],
      "source": [
        "place_marker(test_board,'$',8)\n",
        "display_board(test_board)"
      ]
    },
    {
      "cell_type": "markdown",
      "metadata": {
        "id": "dIUfOFwoZWoM"
      },
      "source": [
        "**Step 4: Write a function that takes in a board and a mark (X or O) and then checks to see if that mark has won. **"
      ]
    },
    {
      "cell_type": "code",
      "execution_count": null,
      "metadata": {
        "collapsed": true,
        "id": "hRDR0LJPZWoM"
      },
      "outputs": [],
      "source": [
        "def win_check(board, mark):\n",
        "\n",
        "    if(\n",
        "     (board[7]==board[8]==board[9]==mark) or\n",
        "     (board[4]==board[5]==board[6]==mark) or #row2\n",
        "     (board[1]==board[2]==board[3]==mark) or\n",
        "     (board[1]==board[4]==board[7]==mark) or\n",
        "     (board[2]==board[5]==board[8]==mark) or\n",
        "     (board[3]==board[6]==board[9]==mark) or\n",
        "     (board[1]==board[5]==board[9]==mark) or\n",
        "     (board[3]==board[5]==board[7]==mark)):\n",
        "      return True\n",
        "    else:\n",
        "      return False\n"
      ]
    },
    {
      "cell_type": "markdown",
      "metadata": {
        "id": "xK8Fs9-1ZWoM"
      },
      "source": [
        "**TEST Step 4:** run the win_check function against our test_board - it should return True"
      ]
    },
    {
      "cell_type": "code",
      "execution_count": null,
      "metadata": {
        "collapsed": true,
        "colab": {
          "base_uri": "https://localhost:8080/"
        },
        "id": "ZFU5uNRzZWoM",
        "outputId": "521c650d-3b21-46a1-a49b-a465e8a1c147"
      },
      "outputs": [
        {
          "output_type": "execute_result",
          "data": {
            "text/plain": [
              "True"
            ]
          },
          "metadata": {},
          "execution_count": 65
        }
      ],
      "source": [
        "win_check(test_board,'X')"
      ]
    },
    {
      "cell_type": "markdown",
      "metadata": {
        "id": "3BGSHmJ0ZWoM"
      },
      "source": [
        "**Step 5: Write a function that uses the random module to randomly decide which player goes first. You may want to lookup random.randint() Return a string of which player went first.**"
      ]
    },
    {
      "cell_type": "code",
      "execution_count": null,
      "metadata": {
        "collapsed": true,
        "id": "sdhx7QFVZWoN"
      },
      "outputs": [],
      "source": [
        "import random\n",
        "\n",
        "def choose_first():\n",
        "    first_player=random.randint(0,1)\n",
        "    if first_player==0:\n",
        "      return 'Player 1 goes first'\n",
        "    else:\n",
        "      return 'Player 2 goes first'"
      ]
    },
    {
      "cell_type": "markdown",
      "metadata": {
        "id": "mtu38cMDZWoN"
      },
      "source": [
        "**Step 6: Write a function that returns a boolean indicating whether a space on the board is freely available.**"
      ]
    },
    {
      "cell_type": "code",
      "execution_count": null,
      "metadata": {
        "collapsed": true,
        "id": "KXZ31SDHZWoN"
      },
      "outputs": [],
      "source": [
        "def space_check(board, position):\n",
        "\n",
        "    return board[position]==''"
      ]
    },
    {
      "cell_type": "markdown",
      "metadata": {
        "id": "1W5Fal_sZWoN"
      },
      "source": [
        "**Step 7: Write a function that checks if the board is full and returns a boolean value. True if full, False otherwise.**"
      ]
    },
    {
      "cell_type": "code",
      "execution_count": null,
      "metadata": {
        "collapsed": true,
        "id": "zFpSoYywZWoN"
      },
      "outputs": [],
      "source": [
        "def full_board_check(board):\n",
        "    for i in range(1,10):\n",
        "      if space_check(board,i):\n",
        "        return False\n",
        "      else:\n",
        "        return True"
      ]
    },
    {
      "cell_type": "markdown",
      "metadata": {
        "id": "vq9Q8sqTZWoN"
      },
      "source": [
        "**Step 8: Write a function that asks for a player's next position (as a number 1-9) and then uses the function from step 6 to check if it's a free position. If it is, then return the position for later use.**"
      ]
    },
    {
      "cell_type": "code",
      "execution_count": null,
      "metadata": {
        "collapsed": true,
        "id": "v0r4RakhZWoN"
      },
      "outputs": [],
      "source": [
        "def player_choice(board):\n",
        "\n",
        "    position=0\n",
        "\n",
        "    while position not in list(range(1,10)) or not space_check(board,position):\n",
        "      position=int(input('Choose a position 1-9'))\n",
        "    return position"
      ]
    },
    {
      "cell_type": "markdown",
      "metadata": {
        "id": "DESgQYJIZWoN"
      },
      "source": [
        "**Step 9: Write a function that asks the player if they want to play again and returns a boolean True if they do want to play again.**"
      ]
    },
    {
      "cell_type": "code",
      "execution_count": null,
      "metadata": {
        "collapsed": true,
        "id": "zpRtxSkNZWoN"
      },
      "outputs": [],
      "source": [
        "def replay():\n",
        "\n",
        "    input(\"Play again? Enter yes or no:\")\n",
        "\n",
        "    return choice=='Yes'"
      ]
    },
    {
      "cell_type": "markdown",
      "metadata": {
        "collapsed": true,
        "id": "K3HTPwsKZWoO"
      },
      "source": [
        "**Step 10: Here comes the hard part! Use while loops and the functions you've made to run the game!**"
      ]
    },
    {
      "cell_type": "code",
      "execution_count": null,
      "metadata": {
        "collapsed": true,
        "colab": {
          "base_uri": "https://localhost:8080/"
        },
        "id": "P2T9Pw90ZWoO",
        "outputId": "54d91b6a-8014-40b1-9d57-95e0495f2f70"
      },
      "outputs": [
        {
          "output_type": "stream",
          "name": "stdout",
          "text": [
            "Welcome to Tic Tac Toe!\n"
          ]
        }
      ],
      "source": [
        "print('Welcome to Tic Tac Toe!')\n",
        "\n",
        "#while True:\n",
        "    # Set the game up here\n",
        "    #pass\n",
        "\n",
        "    #while game_on:\n",
        "        #Player 1 Turn\n",
        "\n",
        "\n",
        "        # Player2's turn.\n",
        "\n",
        "            #pass\n",
        "\n",
        "    #if not replay():\n",
        "        #break"
      ]
    },
    {
      "cell_type": "markdown",
      "metadata": {
        "collapsed": true,
        "id": "8RHFkj-nZWoO"
      },
      "source": [
        "## Good Job!"
      ]
    },
    {
      "cell_type": "code",
      "source": [
        "\n",
        "#While loop to keep running the game\n",
        "print(\"Welcome to Tic Tac Toe\")\n",
        "\n",
        "while True:\n",
        "  #play the game\n",
        "\n",
        "  #set everything up (bpard, who is first, choose markers, x, o)\n",
        "  the_board=['']*10\n",
        "  player1_marker,player2_marker=player_input()\n",
        "\n",
        "  turn=choose_first()\n",
        "  print(turn+'will go first')\n",
        "\n",
        "  play_game=input('Ready to play? Y/N')\n",
        "\n",
        "  if play_game=='y':\n",
        "    game_on=True\n",
        "  else:\n",
        "    game_on==False\n",
        "\n",
        "  while game_on:\n",
        "    if turn=='Player 1':\n",
        "\n",
        "      display_board(the_board)\n",
        "      #choose a position\n",
        "      position=player_choice(the_board)\n",
        "\n",
        "      #place the marker on the position\n",
        "      place_marker(the_board,player1_marker,position)\n",
        "\n",
        "      #check if they won\n",
        "      if win_check(the_board,player1_marker):\n",
        "        display_board(the_board)\n",
        "        print('Player 1 has won')\n",
        "        game_on=False\n",
        "      else:\n",
        "        if full_board_check(the_board):\n",
        "          display_board(the_board)\n",
        "          print(\"Tie Game\")\n",
        "          game_on=False\n",
        "        else:\n",
        "          turn='Player 2'\n",
        "    else:\n",
        "\n",
        "      display_board(the_board)\n",
        "      #choose a position\n",
        "      position=player_choice(the_board)\n",
        "\n",
        "      #place the marker on the position\n",
        "      place_marker(the_board,player1_marker,position)\n",
        "\n",
        "      #check if they won\n",
        "      if win_check(the_board,player2_marker):\n",
        "        display_board(the_board)\n",
        "        print('Player 2 has won')\n",
        "        game_on=False\n",
        "      else:\n",
        "        if full_board_check(the_board):\n",
        "          display_board(the_board)\n",
        "          print(\"Tie Game\")\n",
        "          game_on=False\n",
        "        else:\n",
        "          turn='Player 1'\n",
        "\n",
        "\n",
        "  if not replay():\n",
        "    break\n",
        "\n",
        "\n",
        "#Break out of the while loop for replay()"
      ],
      "metadata": {
        "colab": {
          "base_uri": "https://localhost:8080/"
        },
        "id": "iEl2WntJySgO",
        "outputId": "c7990f89-69a3-484c-f886-0b4ad68e6e33"
      },
      "execution_count": null,
      "outputs": [
        {
          "metadata": {
            "tags": null
          },
          "name": "stdout",
          "output_type": "stream",
          "text": [
            "Welcome to Tic Tac Toe\n"
          ]
        }
      ]
    },
    {
      "cell_type": "code",
      "source": [],
      "metadata": {
        "id": "KxkvzBh3ygp6"
      },
      "execution_count": null,
      "outputs": []
    }
  ],
  "metadata": {
    "kernelspec": {
      "display_name": "Python 3",
      "language": "python",
      "name": "python3"
    },
    "language_info": {
      "codemirror_mode": {
        "name": "ipython",
        "version": 3
      },
      "file_extension": ".py",
      "mimetype": "text/x-python",
      "name": "python",
      "nbconvert_exporter": "python",
      "pygments_lexer": "ipython3",
      "version": "3.6.6"
    },
    "colab": {
      "provenance": [],
      "include_colab_link": true
    }
  },
  "nbformat": 4,
  "nbformat_minor": 0
}