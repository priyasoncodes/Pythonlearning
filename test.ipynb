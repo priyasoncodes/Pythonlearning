{
  "cells": [
    {
      "cell_type": "markdown",
      "metadata": {
        "id": "view-in-github",
        "colab_type": "text"
      },
      "source": [
        "<a href=\"https://colab.research.google.com/github/priyasoncodes/Pythonlearning/blob/main/test.ipynb\" target=\"_parent\"><img src=\"https://colab.research.google.com/assets/colab-badge.svg\" alt=\"Open In Colab\"/></a>"
      ]
    },
    {
      "cell_type": "markdown",
      "source": [
        "# Simple User Interaction"
      ],
      "metadata": {
        "id": "d4qrdvTOq2TI"
      }
    },
    {
      "cell_type": "code",
      "source": [
        "game_list=[0,1,2]"
      ],
      "metadata": {
        "id": "NoFu0HdzqnLZ"
      },
      "execution_count": 3,
      "outputs": []
    },
    {
      "cell_type": "code",
      "source": [
        "def display_game(game_list):\n",
        "  print(\"Here is the current list: \")\n",
        "  print(game_list)"
      ],
      "metadata": {
        "id": "E6luEc-Irxo2"
      },
      "execution_count": 4,
      "outputs": []
    },
    {
      "cell_type": "code",
      "source": [
        "display_game(game_list)"
      ],
      "metadata": {
        "id": "odhfcdJbr7X9",
        "outputId": "a6623dc5-82c3-4f46-ac7b-af8ce859226a",
        "colab": {
          "base_uri": "https://localhost:8080/"
        }
      },
      "execution_count": 5,
      "outputs": [
        {
          "output_type": "stream",
          "name": "stdout",
          "text": [
            "Here is the current list: \n",
            "[0, 1, 2]\n"
          ]
        }
      ]
    },
    {
      "cell_type": "code",
      "source": [
        "#Creating position_choice() function to test if the choice is either an int and within the range 0 to 2\n",
        "\n",
        "def position_choice():\n",
        "  choice= \"Wrong\"\n",
        "  withinrange=False\n",
        "\n",
        "  while choice.isdigit()==False and withinrange==False:\n",
        "    if choice.isdigit()==False:\n",
        "      choice=input(\"Enter a valid integer in the range 0/1/2\")\n",
        "\n",
        "    if choice.isdigit()==True:\n",
        "      if int(choice) not in list(range(0,2)):\n",
        "        choice=input(\"Enter a valid integer in the range 0/1/2\")\n",
        "      else:\n",
        "        withinrange==True\n",
        "  return int(choice)\n",
        "\n"
      ],
      "metadata": {
        "id": "TXEds3t0r9UN"
      },
      "execution_count": 12,
      "outputs": []
    },
    {
      "cell_type": "code",
      "source": [
        "position_choice()"
      ],
      "metadata": {
        "id": "XQlZI-WPsG4-",
        "outputId": "25e60f70-f623-4362-cc2a-e3b6e5f734c1",
        "colab": {
          "base_uri": "https://localhost:8080/"
        }
      },
      "execution_count": 13,
      "outputs": [
        {
          "name": "stdout",
          "output_type": "stream",
          "text": [
            "Enter a valid integer in the range 0/1/23\n",
            "Enter a valid integer in the range 0/1/22\n"
          ]
        },
        {
          "output_type": "execute_result",
          "data": {
            "text/plain": [
              "2"
            ]
          },
          "metadata": {},
          "execution_count": 13
        }
      ]
    },
    {
      "cell_type": "code",
      "source": [
        "def replacement_choice(game_list,position):\n",
        "\n",
        "  user_placement=input(\"Type a string to place at position: \")\n",
        "\n",
        "  game_list[position]=user_placement\n",
        "\n",
        "  return game_list"
      ],
      "metadata": {
        "id": "ypLHTcbDtHZC"
      },
      "execution_count": 14,
      "outputs": []
    },
    {
      "cell_type": "code",
      "source": [
        "replacement_choice(game_list,1)"
      ],
      "metadata": {
        "id": "8CPXOfL6uL6G",
        "outputId": "be13a325-40be-4bc3-a33e-701950e7bff0",
        "colab": {
          "base_uri": "https://localhost:8080/"
        }
      },
      "execution_count": 15,
      "outputs": [
        {
          "name": "stdout",
          "output_type": "stream",
          "text": [
            "Type a string to place at position: name\n"
          ]
        },
        {
          "output_type": "execute_result",
          "data": {
            "text/plain": [
              "[0, 'name', 2]"
            ]
          },
          "metadata": {},
          "execution_count": 15
        }
      ]
    },
    {
      "cell_type": "code",
      "source": [
        "#Creating position_choice() function to test if the choice is either an int and within the range 0 to 2\n",
        "\n",
        "def gameon_choice():\n",
        "  choice= \"Wrong\"\n",
        "\n",
        "  while choice not in ['Y','N']:\n",
        "\n",
        "    choice =input(\"Keep playing (Y or N): \")\n",
        "\n",
        "    if choice not in ['Y','N']:\n",
        "      print(\"Sorry i don't understand, please choose Y or N\")\n",
        "\n",
        "  if choice=='Y':\n",
        "    return True\n",
        "  else:\n",
        "    return False"
      ],
      "metadata": {
        "id": "dbYf7ufkuQfr"
      },
      "execution_count": 21,
      "outputs": []
    },
    {
      "cell_type": "code",
      "source": [
        "gameon_choice()"
      ],
      "metadata": {
        "id": "DrF6xulOvPDL",
        "outputId": "ae6fde48-9a3e-442e-e5ab-6a42397ef027",
        "colab": {
          "base_uri": "https://localhost:8080/"
        }
      },
      "execution_count": 17,
      "outputs": [
        {
          "name": "stdout",
          "output_type": "stream",
          "text": [
            "Keep playing (Y or N): sss\n",
            "Sorry i don't understand, please choose Y or N\n",
            "Keep playing (Y or N): N\n"
          ]
        },
        {
          "output_type": "execute_result",
          "data": {
            "text/plain": [
              "False"
            ]
          },
          "metadata": {},
          "execution_count": 17
        }
      ]
    },
    {
      "cell_type": "code",
      "source": [
        "game_on=True\n",
        "game_list=[0,1,2]\n",
        "\n",
        "while game_on==True:\n",
        "\n",
        "  display_game(game_list)\n",
        "\n",
        "  position=position_choice()\n",
        "\n",
        "  game_list=replacement_choice(game_list,position)\n",
        "\n",
        "  display_game(game_list)\n",
        "\n",
        "  game_on=gameon_choice()"
      ],
      "metadata": {
        "id": "pvNhq2YjvQnY",
        "outputId": "c863d406-d9c2-456b-f3aa-d5de96fac27b",
        "colab": {
          "base_uri": "https://localhost:8080/"
        }
      },
      "execution_count": null,
      "outputs": [
        {
          "metadata": {
            "tags": null
          },
          "name": "stdout",
          "output_type": "stream",
          "text": [
            "Here is the current list: \n",
            "[0, 1, 2]\n",
            "Here is the current list: \n",
            "[0, 1, 'name']\n",
            "Here is the current list: \n",
            "[0, 1, 'name']\n",
            "Here is the current list: \n",
            "[0, 'name', 'name']\n"
          ]
        }
      ]
    },
    {
      "cell_type": "code",
      "source": [],
      "metadata": {
        "id": "mkMPNhywwATL"
      },
      "execution_count": null,
      "outputs": []
    }
  ],
  "metadata": {
    "colab": {
      "name": "Welcome to Colaboratory",
      "toc_visible": true,
      "provenance": [],
      "include_colab_link": true
    },
    "kernelspec": {
      "display_name": "Python 3",
      "name": "python3"
    }
  },
  "nbformat": 4,
  "nbformat_minor": 0
}