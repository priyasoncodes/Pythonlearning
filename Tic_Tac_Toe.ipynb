{
  "nbformat": 4,
  "nbformat_minor": 0,
  "metadata": {
    "colab": {
      "provenance": [],
      "authorship_tag": "ABX9TyNUSTqB//nQxtxvR614E2XG",
      "include_colab_link": true
    },
    "kernelspec": {
      "name": "python3",
      "display_name": "Python 3"
    },
    "language_info": {
      "name": "python"
    }
  },
  "cells": [
    {
      "cell_type": "markdown",
      "metadata": {
        "id": "view-in-github",
        "colab_type": "text"
      },
      "source": [
        "<a href=\"https://colab.research.google.com/github/priyasoncodes/Pythonlearning/blob/main/Tic_Tac_Toe.ipynb\" target=\"_parent\"><img src=\"https://colab.research.google.com/assets/colab-badge.svg\" alt=\"Open In Colab\"/></a>"
      ]
    },
    {
      "cell_type": "markdown",
      "source": [
        "**Sep 8th: Tic Tac toe from Jose Portilla Course::**"
      ],
      "metadata": {
        "id": "PdQHM7AP_6f1"
      }
    },
    {
      "cell_type": "code",
      "source": [],
      "metadata": {
        "id": "Lm33PZqC_809"
      },
      "execution_count": null,
      "outputs": []
    }
  ]
}